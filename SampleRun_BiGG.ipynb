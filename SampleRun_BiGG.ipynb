{
 "cells": [
  {
   "cell_type": "code",
   "execution_count": 54,
   "metadata": {},
   "outputs": [],
   "source": [
    "%run -i 'ModelParsing.py'"
   ]
  },
  {
   "cell_type": "code",
   "execution_count": 55,
   "metadata": {},
   "outputs": [],
   "source": [
    "import gc"
   ]
  },
  {
   "cell_type": "markdown",
   "metadata": {},
   "source": [
    "# 1"
   ]
  },
  {
   "cell_type": "code",
   "execution_count": 6,
   "metadata": {},
   "outputs": [
    {
     "name": "stdout",
     "output_type": "stream",
     "text": [
      "Warning: no candidate for extra, outside found in the list\n",
      "Warning: multiple candidates for biomass found in the list\n",
      "0) E. coli biomass objective function (iJO1366) - WT - with 53.95 GAM estimate 1) E. coli biomass objective function (iJO1366) - core - with 53.95 GAM estimate\n",
      "Please select the correct string from the list above and enter its number, or -1 if none \n",
      "0\n",
      "Number of individually producible free lunch metabolites 3\n",
      "[27, 290, 462] ['M_h_c', 'M_h_e', 'M_h_p']\n"
     ]
    },
    {
     "data": {
      "text/plain": [
       "0"
      ]
     },
     "execution_count": 6,
     "metadata": {},
     "output_type": "execute_result"
    }
   ],
   "source": [
    "model =parseSBML('/home/hzabeti/qsopt-ex/build/python-qsoptex/MongooseGUI3/Models/SBML/iECB_1328.xml')\n",
    "model.description\n",
    "ind_flm_index_list,ind_flm_list = model.findIndividuallyProducibleFLM()\n",
    "print(ind_flm_index_list,ind_flm_list)\n",
    "gc.collect()"
   ]
  },
  {
   "cell_type": "markdown",
   "metadata": {},
   "source": [
    "# 2"
   ]
  },
  {
   "cell_type": "code",
   "execution_count": 12,
   "metadata": {},
   "outputs": [
    {
     "name": "stdout",
     "output_type": "stream",
     "text": [
      "Warning: no candidate for extra, outside found in the list\n"
     ]
    }
   ],
   "source": [
    "model =parseSBML('/home/hzabeti/qsopt-ex/build/python-qsoptex/MongooseGUI3/Models/SBML/iNJ661.xml')"
   ]
  },
  {
   "cell_type": "code",
   "execution_count": 13,
   "metadata": {},
   "outputs": [
    {
     "name": "stdout",
     "output_type": "stream",
     "text": [
      "Number of individually producible free lunch metabolites 192\n",
      "[0, 2, 3, 4, 9, 22, 25, 44, 45, 46, 47, 48, 49, 50, 51, 52, 53, 54, 55, 57, 59, 61, 63, 64, 65, 66, 67, 68, 78, 79, 80, 82, 83, 84, 85, 90, 93, 94, 98, 106, 120, 121, 128, 130, 131, 145, 146, 149, 160, 170, 171, 220, 221, 222, 223, 244, 245, 246, 252, 253, 254, 255, 257, 258, 261, 270, 274, 279, 280, 281, 282, 283, 284, 286, 287, 305, 307, 308, 314, 318, 320, 321, 331, 332, 342, 344, 345, 361, 362, 363, 364, 365, 366, 367, 370, 383, 387, 392, 403, 406, 408, 409, 411, 413, 415, 420, 422, 428, 434, 437, 441, 442, 447, 481, 487, 488, 491, 492, 496, 497, 499, 500, 501, 502, 503, 511, 512, 513, 516, 517, 518, 519, 520, 521, 522, 523, 529, 535, 545, 548, 549, 550, 551, 553, 554, 555, 568, 572, 573, 574, 575, 579, 590, 591, 598, 609, 623, 624, 626, 635, 649, 650, 653, 688, 711, 717, 718, 720, 738, 748, 753, 770, 794, 795, 796, 797, 798, 799, 800, 801, 802, 803, 804, 805, 806, 807, 808, 809, 811, 812, 813, 814] ['M_dxyl_c', 'M_h_c', 'M_h2o_c', 'M_pyr_c', 'M_co2_c', 'M_h_e', 'M_2obut_c', 'M_tre_c', 'M_mycolate_c', 'M_kmycolate_c', 'M_tdm4_c', 'M_mkmycolate_c', 'M_tdm3_c', 'M_tdm2_c', 'M_mmmycolate_c', 'M_mmycolate_c', 'M_tdm1_c', 'M_hpmtria_c', 'M_omtta_c', 'M_hdca_c', 'M_tat_c', 'M_arab__D_c', 'M_tarab__D_c', 'M_tartr__L_c', 'M_tartr__L_e', 'M_succ_c', 'M_succ_e', 'M_oaa_c', 'M_fum_c', 'M_2shchc_c', 'M_sucbz_c', 'M_sucsal_c', 'M_o2_c', 'M_h2o2_c', 'M_o2s_c', 'M_akg_c', 'M_skm_e', 'M_skm_c', 'M_3dhsk_c', 'M_ichor_c', 'M_chor_c', 'M_salc_c', 'M_rrppdima_c', 'M_rppdima_c', 'M_ppdima_c', 'M_rib__D_c', 'M_rib__D_e', 'M_rbl__D_c', 'M_ac_c', 'M_pyr_e', 'M_acald_c', 'M_prepphth_c', 'M_prephth_c', 'M_fald_c', 'M_meoh_c', 'M_phpyr_c', 'M_pphn_c', 'M_34hpp_c', 'M_glc__D_c', 'M_ppdima_e', 'M_tamocta_c', 'M_pphthiocerol_c', 'M_ppa_c', 'M_hco3_c', 'M_ppa_e', 'M_ocdca_c', 'M_12dgr160_c', 'M_phthclh2_c', 'M_phthcl_c', 'M_pphthdl_c', 'M_phthdl_c', 'M_phthiocerol_c', 'M_mndn_c', 'M_phdca_e', 'M_phdca_c', 'M_glyclt_c', 'M_frrppdima_c', 'M_mfrrppdima_c', 'M_for_c', 'M_pacald_c', 'M_pdima_e', 'M_pdima_c', 'M_pat_c', 'M_tmlgnc_c', 'M_pant__R_c', 'M_pac_c', 'M_pac_e', 'M_3mob_c', 'M_2dhp_c', 'M_dhna_c', 'M_man_c', 'M_msa_c', 'M_ppal_c', 'M_2mop_c', 'M_inost_c', 'M_meoh_e', 'M_mal__L_c', 'M_bhb_c', 'M_mal__L_e', 'M_ocdcea_c', 'M_arach_c', 'M_tmha1_c', 'M_tmha2_c', 'M_tmha3_c', 'M_ttdca_c', 'M_glyc_c', 'M_hdcea_c', 'M_mbhn_c', 'M_mocdca_c', 'M_gal_c', 'M_tmha4_c', 'M_hexc_c', 'M_xylu__D_c', 'M_ttdca_e', 'M_triat_c', 'M_tre_e', 'M_tmha6_c', 'M_tmha5_c', 'M_malt_e', 'M_malt_c', 'M_glx_c', 'M_lac__L_e', 'M_lac__L_c', 'M_mql8_c', 'M_mqn8_c', 'M_4mop_c', 'M_lcts_e', 'M_lcts_c', 'M_2ahbut_c', 'M_23dhmp_c', 'M_23dhmb_c', 'M_alac__S_c', 'M_3c3hmp_c', 'M_2ippm_c', 'M_3c2hmp_c', 'M_3c4mop_c', 'M_3mop_c', 'M_icit_c', 'M_4h2opntn_c', 'M_hdca_e', 'M_harab__D_c', 'M_h2_c', 'M_h2_e', 'M_h2o_e', 'M_h2co3_e', 'M_h2co3_c', 'M_mharab__D_c', 'M_glyc_e', 'M_2dmmq8_c', 'M_2dmmql8_c', 'M_glyc__R_c', 'M_oxa_c', 'M_glc__D_e', 'M_glycogen_c', 'M_gal_e', 'M_fum_e', 'M_co_e', 'M_co2_e', 'M_cit_e', 'M_arab__D_e', 'M_acac_c', 'M_ocdca_e', 'M_o2_e', 'M_rmyc_c', 'M_3dhq_c', 'M_mql6_c', 'M_mqn6_c', 'M_2dmmq6_c', 'M_cit_c', 'M_co_c', 'M_4hbz_c', 'M_arabinan_c', 'M_hpmdtria_c', 'M_hmtria_c', 'M_omdtria_c', 'M_pmocta_c', 'M_tamhexc_c', 'M_hmocta_c', 'M_tmhexc_c', 'M_pmhexc_c', 'M_dmlgnc_c', 'M_dmbhn_c', 'M_tamlgnc_c', 'M_marach_c', 'M_tmbhn_c', 'M_dmarach_c', 'M_m1ocdca_c', 'M_octa_c', 'M_ttc_c', 'M_ddca_c', 'M_dca_c', 'M_homtta_c']\n"
     ]
    },
    {
     "data": {
      "text/plain": [
       "0"
      ]
     },
     "execution_count": 13,
     "metadata": {},
     "output_type": "execute_result"
    }
   ],
   "source": [
    "model.description\n",
    "ind_flm_index_list,ind_flm_list = model.findIndividuallyProducibleFLM()\n",
    "print(ind_flm_index_list,ind_flm_list)\n",
    "gc.collect()"
   ]
  },
  {
   "cell_type": "markdown",
   "metadata": {},
   "source": [
    "# 3"
   ]
  },
  {
   "cell_type": "code",
   "execution_count": 14,
   "metadata": {},
   "outputs": [
    {
     "name": "stdout",
     "output_type": "stream",
     "text": [
      "Warning: no candidate for extra, outside found in the list\n",
      "Warning: multiple candidates for biomass found in the list\n",
      "0) E. coli biomass objective function (iJO1366) - WT - with 53.95 GAM estimate 1) E. coli biomass objective function (iJO1366) - core - with 53.95 GAM estimate\n",
      "Please select the correct string from the list above and enter its number, or -1 if none \n",
      "0\n"
     ]
    }
   ],
   "source": [
    "model =parseSBML('/home/hzabeti/qsopt-ex/build/python-qsoptex/MongooseGUI3/Models/SBML/iY75_1357.xml')"
   ]
  },
  {
   "cell_type": "code",
   "execution_count": 15,
   "metadata": {},
   "outputs": [
    {
     "data": {
      "text/plain": [
       "{'ID': 'iY75_1357',\n",
       " 'Name': 'Escherichia coli str. K-12 substr. W3110',\n",
       " 'Source File': '/home/hzabeti/qsopt-ex/build/python-qsoptex/MongooseGUI3/Models/SBML/iY75_1357.xml'}"
      ]
     },
     "execution_count": 15,
     "metadata": {},
     "output_type": "execute_result"
    }
   ],
   "source": [
    "model.description"
   ]
  },
  {
   "cell_type": "code",
   "execution_count": 16,
   "metadata": {},
   "outputs": [
    {
     "name": "stdout",
     "output_type": "stream",
     "text": [
      "Number of individually producible free lunch metabolites 3\n",
      "[102, 290, 463] ['M_h_c', 'M_h_e', 'M_h_p']\n"
     ]
    },
    {
     "data": {
      "text/plain": [
       "0"
      ]
     },
     "execution_count": 16,
     "metadata": {},
     "output_type": "execute_result"
    }
   ],
   "source": [
    "ind_flm_index_list,ind_flm_list = model.findIndividuallyProducibleFLM()\n",
    "print(ind_flm_index_list,ind_flm_list)\n",
    "gc.collect()"
   ]
  },
  {
   "cell_type": "markdown",
   "metadata": {},
   "source": [
    "# 4"
   ]
  },
  {
   "cell_type": "code",
   "execution_count": 17,
   "metadata": {},
   "outputs": [
    {
     "name": "stdout",
     "output_type": "stream",
     "text": [
      "Warning: no candidate for extra, outside found in the list\n"
     ]
    }
   ],
   "source": [
    "model =parseSBML('/home/hzabeti/qsopt-ex/build/python-qsoptex/MongooseGUI3/Models/SBML/iMM1415.xml')"
   ]
  },
  {
   "cell_type": "code",
   "execution_count": 18,
   "metadata": {},
   "outputs": [
    {
     "data": {
      "text/plain": [
       "{'ID': 'iMM1415',\n",
       " 'Name': 'Mus musculus',\n",
       " 'Source File': '/home/hzabeti/qsopt-ex/build/python-qsoptex/MongooseGUI3/Models/SBML/iMM1415.xml'}"
      ]
     },
     "execution_count": 18,
     "metadata": {},
     "output_type": "execute_result"
    }
   ],
   "source": [
    "model.description"
   ]
  },
  {
   "cell_type": "code",
   "execution_count": 19,
   "metadata": {},
   "outputs": [
    {
     "name": "stdout",
     "output_type": "stream",
     "text": [
      "Number of individually producible free lunch metabolites 41\n",
      "[319, 549, 551, 552, 722, 723, 1218, 1219, 1220, 1288, 1289, 1445, 1566, 1567, 1723, 1787, 1788, 1789, 2058, 2104, 2139, 2141, 2142, 2208, 2209, 2326, 2353, 2354, 2355, 2374, 2375, 2451, 2524, 2525, 2569, 2680, 2708, 2709, 2710, 2732, 2733] ['M_coa_c', 'M_h_c', 'M_h2o_c', 'M_h2o2_c', 'M_o2_c', 'M_o2s_c', 'M_h_e', 'M_h2o_e', 'M_h2o2_e', 'M_o2_e', 'M_o2s_e', 'M_coa_g', 'M_h_g', 'M_h2o_g', 'M_coa_l', 'M_h_l', 'M_h2o_l', 'M_h2o2_l', 'M_coa_m', 'M_e_m', 'M_h_m', 'M_h2o_m', 'M_h2o2_m', 'M_o2_m', 'M_o2s_m', 'M_coa_n', 'M_h_n', 'M_h2o_n', 'M_h2o2_n', 'M_o2_n', 'M_o2s_n', 'M_coa_r', 'M_h_r', 'M_h2o_r', 'M_o2_r', 'M_coa_x', 'M_h_x', 'M_h2o_x', 'M_h2o2_x', 'M_o2_x', 'M_o2s_x']\n"
     ]
    },
    {
     "data": {
      "text/plain": [
       "0"
      ]
     },
     "execution_count": 19,
     "metadata": {},
     "output_type": "execute_result"
    }
   ],
   "source": [
    "ind_flm_index_list,ind_flm_list = model.findIndividuallyProducibleFLM()\n",
    "print(ind_flm_index_list,ind_flm_list)\n",
    "gc.collect()"
   ]
  },
  {
   "cell_type": "markdown",
   "metadata": {},
   "source": [
    "# 5"
   ]
  },
  {
   "cell_type": "code",
   "execution_count": 20,
   "metadata": {},
   "outputs": [
    {
     "name": "stdout",
     "output_type": "stream",
     "text": [
      "Warning: no candidate for extra, outside found in the list\n",
      "Warning: multiple candidates for biomass found in the list\n",
      "0) E. coli biomass objective function (iJO1366) - WT - with 53.95 GAM estimate 1) E. coli biomass objective function (iJO1366) - core - with 53.95 GAM estimate\n",
      "Please select the correct string from the list above and enter its number, or -1 if none \n",
      "0\n"
     ]
    }
   ],
   "source": [
    "model =parseSBML('/home/hzabeti/qsopt-ex/build/python-qsoptex/MongooseGUI3/Models/SBML/iECO103_1326.xml')"
   ]
  },
  {
   "cell_type": "code",
   "execution_count": 21,
   "metadata": {},
   "outputs": [
    {
     "data": {
      "text/plain": [
       "{'ID': 'iECO103_1326',\n",
       " 'Name': 'Escherichia coli O103:H2 str. 12009',\n",
       " 'Source File': '/home/hzabeti/qsopt-ex/build/python-qsoptex/MongooseGUI3/Models/SBML/iECO103_1326.xml'}"
      ]
     },
     "execution_count": 21,
     "metadata": {},
     "output_type": "execute_result"
    }
   ],
   "source": [
    "model.description"
   ]
  },
  {
   "cell_type": "code",
   "execution_count": 22,
   "metadata": {},
   "outputs": [
    {
     "name": "stdout",
     "output_type": "stream",
     "text": [
      "Number of individually producible free lunch metabolites 3\n",
      "[17, 290, 462] ['M_h_c', 'M_h_e', 'M_h_p']\n"
     ]
    },
    {
     "data": {
      "text/plain": [
       "0"
      ]
     },
     "execution_count": 22,
     "metadata": {},
     "output_type": "execute_result"
    }
   ],
   "source": [
    "ind_flm_index_list,ind_flm_list = model.findIndividuallyProducibleFLM()\n",
    "print(ind_flm_index_list,ind_flm_list)\n",
    "gc.collect()"
   ]
  },
  {
   "cell_type": "markdown",
   "metadata": {},
   "source": [
    "# 6"
   ]
  },
  {
   "cell_type": "code",
   "execution_count": 23,
   "metadata": {},
   "outputs": [
    {
     "name": "stdout",
     "output_type": "stream",
     "text": [
      "Warning: no candidate for extra, outside found in the list\n",
      "Warning: multiple candidates for biomass found in the list\n",
      "0) E. coli biomass objective function (iJO1366) - WT - with 53.95 GAM estimate 1) E. coli biomass objective function (iJO1366) - core - with 53.95 GAM estimate\n",
      "Please select the correct string from the list above and enter its number, or -1 if none \n",
      "0\n"
     ]
    }
   ],
   "source": [
    "model =parseSBML('/home/hzabeti/qsopt-ex/build/python-qsoptex/MongooseGUI3/Models/SBML/iECUMN_1333.xml')"
   ]
  },
  {
   "cell_type": "code",
   "execution_count": 24,
   "metadata": {},
   "outputs": [
    {
     "data": {
      "text/plain": [
       "{'ID': 'iECUMN_1333',\n",
       " 'Name': 'Escherichia coli UMN026',\n",
       " 'Source File': '/home/hzabeti/qsopt-ex/build/python-qsoptex/MongooseGUI3/Models/SBML/iECUMN_1333.xml'}"
      ]
     },
     "execution_count": 24,
     "metadata": {},
     "output_type": "execute_result"
    }
   ],
   "source": [
    "model.description"
   ]
  },
  {
   "cell_type": "code",
   "execution_count": 25,
   "metadata": {},
   "outputs": [
    {
     "name": "stdout",
     "output_type": "stream",
     "text": [
      "Number of individually producible free lunch metabolites 3\n",
      "[57, 290, 462] ['M_h_c', 'M_h_e', 'M_h_p']\n"
     ]
    },
    {
     "data": {
      "text/plain": [
       "0"
      ]
     },
     "execution_count": 25,
     "metadata": {},
     "output_type": "execute_result"
    }
   ],
   "source": [
    "ind_flm_index_list,ind_flm_list = model.findIndividuallyProducibleFLM()\n",
    "print(ind_flm_index_list,ind_flm_list)\n",
    "gc.collect()"
   ]
  },
  {
   "cell_type": "markdown",
   "metadata": {},
   "source": [
    "# 7"
   ]
  },
  {
   "cell_type": "code",
   "execution_count": 26,
   "metadata": {},
   "outputs": [
    {
     "name": "stdout",
     "output_type": "stream",
     "text": [
      "Warning: no candidate for extra, outside found in the list\n",
      "Warning: multiple candidates for biomass found in the list\n",
      "0) E. coli biomass objective function (iJO1366) - WT - with 53.95 GAM estimate 1) E. coli biomass objective function (iJO1366) - core - with 53.95 GAM estimate\n",
      "Please select the correct string from the list above and enter its number, or -1 if none \n",
      "0\n"
     ]
    }
   ],
   "source": [
    "model =parseSBML('/home/hzabeti/qsopt-ex/build/python-qsoptex/MongooseGUI3/Models/SBML/iEcolC_1368.xml')"
   ]
  },
  {
   "cell_type": "code",
   "execution_count": 27,
   "metadata": {},
   "outputs": [
    {
     "data": {
      "text/plain": [
       "{'ID': 'iEcolC_1368',\n",
       " 'Name': 'Escherichia coli ATCC 8739',\n",
       " 'Source File': '/home/hzabeti/qsopt-ex/build/python-qsoptex/MongooseGUI3/Models/SBML/iEcolC_1368.xml'}"
      ]
     },
     "execution_count": 27,
     "metadata": {},
     "output_type": "execute_result"
    }
   ],
   "source": [
    "model.description"
   ]
  },
  {
   "cell_type": "code",
   "execution_count": 28,
   "metadata": {},
   "outputs": [
    {
     "name": "stdout",
     "output_type": "stream",
     "text": [
      "Number of individually producible free lunch metabolites 3\n",
      "[95, 290, 462] ['M_h_c', 'M_h_e', 'M_h_p']\n"
     ]
    },
    {
     "data": {
      "text/plain": [
       "0"
      ]
     },
     "execution_count": 28,
     "metadata": {},
     "output_type": "execute_result"
    }
   ],
   "source": [
    "ind_flm_index_list,ind_flm_list = model.findIndividuallyProducibleFLM()\n",
    "print(ind_flm_index_list,ind_flm_list)\n",
    "gc.collect()"
   ]
  },
  {
   "cell_type": "markdown",
   "metadata": {},
   "source": [
    "# 8"
   ]
  },
  {
   "cell_type": "code",
   "execution_count": 29,
   "metadata": {},
   "outputs": [
    {
     "name": "stdout",
     "output_type": "stream",
     "text": [
      "Warning: no candidate for extra, outside found in the list\n",
      "Warning: no candidate for biomass found in the list\n"
     ]
    }
   ],
   "source": [
    "model =parseSBML('/home/hzabeti/qsopt-ex/build/python-qsoptex/MongooseGUI3/Models/SBML/RECON1.xml')"
   ]
  },
  {
   "cell_type": "code",
   "execution_count": 30,
   "metadata": {},
   "outputs": [
    {
     "data": {
      "text/plain": [
       "{'ID': 'RECON1',\n",
       " 'Name': 'Homo sapiens',\n",
       " 'Source File': '/home/hzabeti/qsopt-ex/build/python-qsoptex/MongooseGUI3/Models/SBML/RECON1.xml'}"
      ]
     },
     "execution_count": 30,
     "metadata": {},
     "output_type": "execute_result"
    }
   ],
   "source": [
    "model.description"
   ]
  },
  {
   "cell_type": "code",
   "execution_count": 31,
   "metadata": {},
   "outputs": [
    {
     "name": "stdout",
     "output_type": "stream",
     "text": [
      "Number of individually producible free lunch metabolites 39\n",
      "[779, 781, 782, 783, 784, 785, 1503, 1504, 1505, 1506, 1507, 1508, 1509, 1510, 1511, 1512, 1513, 1514, 1515, 1516, 1518, 1519, 1520, 1521, 1522, 1523, 1524, 1525, 2105, 2106, 2107, 2108, 2109, 2110, 2111, 2112, 2113, 2114, 2115] ['M_coa_c', 'M_coa_l', 'M_coa_m', 'M_coa_n', 'M_coa_r', 'M_coa_x', 'M_h2o2_c', 'M_h2o2_e', 'M_h2o2_l', 'M_h2o2_m', 'M_h2o2_n', 'M_h2o2_x', 'M_h2o_c', 'M_h2o_e', 'M_h2o_g', 'M_h2o_l', 'M_h2o_m', 'M_h2o_n', 'M_h2o_r', 'M_h2o_x', 'M_h_c', 'M_h_e', 'M_h_g', 'M_h_l', 'M_h_m', 'M_h_n', 'M_h_r', 'M_h_x', 'M_o2_c', 'M_o2_e', 'M_o2_m', 'M_o2_n', 'M_o2_r', 'M_o2_x', 'M_o2s_c', 'M_o2s_e', 'M_o2s_m', 'M_o2s_n', 'M_o2s_x']\n"
     ]
    },
    {
     "data": {
      "text/plain": [
       "0"
      ]
     },
     "execution_count": 31,
     "metadata": {},
     "output_type": "execute_result"
    }
   ],
   "source": [
    "ind_flm_index_list,ind_flm_list = model.findIndividuallyProducibleFLM()\n",
    "print(ind_flm_index_list,ind_flm_list)\n",
    "gc.collect()"
   ]
  },
  {
   "cell_type": "markdown",
   "metadata": {},
   "source": [
    "# 9"
   ]
  },
  {
   "cell_type": "code",
   "execution_count": 32,
   "metadata": {},
   "outputs": [
    {
     "name": "stdout",
     "output_type": "stream",
     "text": [
      "Warning: no candidate for extra, outside found in the list\n",
      "Warning: multiple candidates for biomass found in the list\n",
      "0) E. coli biomass objective function (iJO1366) - WT - with 53.95 GAM estimate 1) E. coli biomass objective function (iJO1366) - core - with 53.95 GAM estimate\n",
      "Please select the correct string from the list above and enter its number, or -1 if none \n",
      "0\n"
     ]
    }
   ],
   "source": [
    "model =parseSBML('/home/hzabeti/qsopt-ex/build/python-qsoptex/MongooseGUI3/Models/SBML/iECO111_1330.xml')"
   ]
  },
  {
   "cell_type": "code",
   "execution_count": 33,
   "metadata": {},
   "outputs": [
    {
     "data": {
      "text/plain": [
       "{'ID': 'iECO111_1330',\n",
       " 'Name': 'Escherichia coli O111:H- str. 11128',\n",
       " 'Source File': '/home/hzabeti/qsopt-ex/build/python-qsoptex/MongooseGUI3/Models/SBML/iECO111_1330.xml'}"
      ]
     },
     "execution_count": 33,
     "metadata": {},
     "output_type": "execute_result"
    }
   ],
   "source": [
    "model.description"
   ]
  },
  {
   "cell_type": "code",
   "execution_count": 34,
   "metadata": {},
   "outputs": [
    {
     "name": "stdout",
     "output_type": "stream",
     "text": [
      "Number of individually producible free lunch metabolites 3\n",
      "[109, 290, 460] ['M_h_c', 'M_h_e', 'M_h_p']\n"
     ]
    },
    {
     "data": {
      "text/plain": [
       "0"
      ]
     },
     "execution_count": 34,
     "metadata": {},
     "output_type": "execute_result"
    }
   ],
   "source": [
    "ind_flm_index_list,ind_flm_list = model.findIndividuallyProducibleFLM()\n",
    "print(ind_flm_index_list,ind_flm_list)\n",
    "gc.collect()"
   ]
  },
  {
   "cell_type": "markdown",
   "metadata": {},
   "source": [
    "# 10"
   ]
  },
  {
   "cell_type": "code",
   "execution_count": 56,
   "metadata": {},
   "outputs": [
    {
     "name": "stdout",
     "output_type": "stream",
     "text": [
      "Warning: no candidate for extra, outside found in the list\n",
      "Warning: multiple candidates for biomass found in the list\n",
      "0) E. coli biomass objective function (iJO1366) - WT - with 53.95 GAM estimate 1) E. coli biomass objective function (iJO1366) - core - with 53.95 GAM estimate\n",
      "Please select the correct string from the list above and enter its number, or -1 if none \n",
      "0\n"
     ]
    }
   ],
   "source": [
    "model1 =parseSBML('/home/hzabeti/qsopt-ex/build/python-qsoptex/MongooseGUI3/Models/SBML/iSBO_1134.xml')"
   ]
  },
  {
   "cell_type": "code",
   "execution_count": 57,
   "metadata": {},
   "outputs": [
    {
     "data": {
      "text/plain": [
       "{'ID': 'iSBO_1134',\n",
       " 'Name': 'Shigella boydii Sb227',\n",
       " 'Source File': '/home/hzabeti/qsopt-ex/build/python-qsoptex/MongooseGUI3/Models/SBML/iSBO_1134.xml'}"
      ]
     },
     "execution_count": 57,
     "metadata": {},
     "output_type": "execute_result"
    }
   ],
   "source": [
    "model1.description"
   ]
  },
  {
   "cell_type": "code",
   "execution_count": 63,
   "metadata": {},
   "outputs": [
    {
     "name": "stdout",
     "output_type": "stream",
     "text": [
      "Number of individually producible free lunch metabolites 3\n",
      "[11, 290, 459] ['M_h_c', 'M_h_e', 'M_h_p']\n"
     ]
    },
    {
     "data": {
      "text/plain": [
       "0"
      ]
     },
     "execution_count": 63,
     "metadata": {},
     "output_type": "execute_result"
    }
   ],
   "source": [
    "ind_flm_index_list1,ind_flm_list1 = model1.findIndividuallyProducibleFLM()\n",
    "print(ind_flm_index_list1,ind_flm_list1)\n",
    "gc.collect()"
   ]
  },
  {
   "cell_type": "markdown",
   "metadata": {},
   "source": [
    "# 11 "
   ]
  },
  {
   "cell_type": "code",
   "execution_count": 59,
   "metadata": {},
   "outputs": [
    {
     "name": "stdout",
     "output_type": "stream",
     "text": [
      "Warning: no candidate for extra, outside found in the list\n",
      "Warning: multiple candidates for biomass found in the list\n",
      "0) Biomass (autotrophic) 1) Biomass (mixotrophic) 2) Biomass (heterotrophic)\n",
      "Please select the correct string from the list above and enter its number, or -1 if none \n",
      "0\n"
     ]
    }
   ],
   "source": [
    "model2 =parseSBML('/home/hzabeti/qsopt-ex/build/python-qsoptex/MongooseGUI3/Models/SBML/iRC1080.xml')"
   ]
  },
  {
   "cell_type": "code",
   "execution_count": 60,
   "metadata": {},
   "outputs": [
    {
     "data": {
      "text/plain": [
       "{'ID': 'iRC1080',\n",
       " 'Name': '',\n",
       " 'Source File': '/home/hzabeti/qsopt-ex/build/python-qsoptex/MongooseGUI3/Models/SBML/iRC1080.xml'}"
      ]
     },
     "execution_count": 60,
     "metadata": {},
     "output_type": "execute_result"
    }
   ],
   "source": [
    "model2.description"
   ]
  },
  {
   "cell_type": "code",
   "execution_count": 64,
   "metadata": {},
   "outputs": [
    {
     "name": "stdout",
     "output_type": "stream",
     "text": [
      "Number of individually producible free lunch metabolites 21\n",
      "[882, 883, 885, 886, 887, 889, 890, 891, 892, 893, 894, 895, 1332, 1333, 1334, 1335, 1336, 1337, 1338, 1339, 1340] ['M_h_c', 'M_h_e', 'M_h_g', 'M_h_h', 'M_h_m', 'M_h_s', 'M_h_u', 'M_h_x', 'M_h2_c', 'M_h2_e', 'M_h2_h', 'M_h2_m', 'M_photon298_c', 'M_photon437_u', 'M_photon438_u', 'M_photon450_h', 'M_photon490_s', 'M_photon646_h', 'M_photon673_u', 'M_photon680_u', 'M_photonVis_e']\n"
     ]
    },
    {
     "data": {
      "text/plain": [
       "0"
      ]
     },
     "execution_count": 64,
     "metadata": {},
     "output_type": "execute_result"
    }
   ],
   "source": [
    "ind_flm_index_list2,ind_flm_list2 = model2.findIndividuallyProducibleFLM()\n",
    "print(ind_flm_index_list2,ind_flm_list2)\n",
    "gc.collect()"
   ]
  },
  {
   "cell_type": "markdown",
   "metadata": {},
   "source": [
    "# 12"
   ]
  },
  {
   "cell_type": "code",
   "execution_count": 61,
   "metadata": {},
   "outputs": [
    {
     "name": "stdout",
     "output_type": "stream",
     "text": [
      "Warning: no candidate for extra, outside found in the list\n",
      "Warning: multiple candidates for biomass found in the list\n",
      "0) Biomass: pigments and xanthophylls 1) Biomass objective function 2) Biomass: DNA 3) Biomass: Cell wall (LPS and peptidoglycan) 4) Biomass: cofactor pool 5) Biomass: protein 6) Biomass: RNA 7) Biomass: carbohydrates (storage and misc.)\n",
      "Please select the correct string from the list above and enter its number, or -1 if none \n",
      "0\n"
     ]
    }
   ],
   "source": [
    "model3 =parseSBML('/home/hzabeti/qsopt-ex/build/python-qsoptex/MongooseGUI3/Models/SBML/iJB785.xml')"
   ]
  },
  {
   "cell_type": "code",
   "execution_count": 62,
   "metadata": {},
   "outputs": [
    {
     "data": {
      "text/plain": [
       "{'ID': 'iJB785',\n",
       " 'Name': 'Synechococcus elongatus PCC 7942',\n",
       " 'Source File': '/home/hzabeti/qsopt-ex/build/python-qsoptex/MongooseGUI3/Models/SBML/iJB785.xml'}"
      ]
     },
     "execution_count": 62,
     "metadata": {},
     "output_type": "execute_result"
    }
   ],
   "source": [
    "model3.description"
   ]
  },
  {
   "cell_type": "code",
   "execution_count": 65,
   "metadata": {},
   "outputs": [
    {
     "name": "stdout",
     "output_type": "stream",
     "text": [
      "Number of individually producible free lunch metabolites 16\n",
      "[664, 665, 666, 667, 668, 669, 670, 671, 672, 673, 674, 675, 676, 677, 678, 687] ['M_photon410_e', 'M_photon430_e', 'M_photon450_e', 'M_photon470_e', 'M_photon490_e', 'M_photon510_e', 'M_photon530_e', 'M_photon550_e', 'M_photon570_e', 'M_photon590_e', 'M_photon610_e', 'M_photon630_e', 'M_photon650_e', 'M_photon670_e', 'M_photon690_e', 'M_pho_loss_c']\n"
     ]
    },
    {
     "data": {
      "text/plain": [
       "0"
      ]
     },
     "execution_count": 65,
     "metadata": {},
     "output_type": "execute_result"
    }
   ],
   "source": [
    "ind_flm_index_list3,ind_flm_list3 = model3.findIndividuallyProducibleFLM()\n",
    "print(ind_flm_index_list3,ind_flm_list3)\n",
    "gc.collect()"
   ]
  },
  {
   "cell_type": "markdown",
   "metadata": {},
   "source": [
    "# 13"
   ]
  },
  {
   "cell_type": "code",
   "execution_count": 66,
   "metadata": {},
   "outputs": [
    {
     "name": "stdout",
     "output_type": "stream",
     "text": [
      "Warning: no candidate for extra, outside found in the list\n",
      "Warning: multiple candidates for biomass found in the list\n",
      "0) E. coli biomass objective function (iJO1366) - WT - with 53.95 GAM estimate 1) E. coli biomass objective function (iJO1366) - core - with 53.95 GAM estimate\n",
      "Please select the correct string from the list above and enter its number, or -1 if none \n",
      "0\n"
     ]
    }
   ],
   "source": [
    "model4 =parseSBML('/home/hzabeti/qsopt-ex/build/python-qsoptex/MongooseGUI3/Models/SBML/iS_1188.xml')"
   ]
  },
  {
   "cell_type": "code",
   "execution_count": 67,
   "metadata": {},
   "outputs": [
    {
     "data": {
      "text/plain": [
       "{'ID': 'iS_1188',\n",
       " 'Name': 'Shigella flexneri 2a str. 2457T',\n",
       " 'Source File': '/home/hzabeti/qsopt-ex/build/python-qsoptex/MongooseGUI3/Models/SBML/iS_1188.xml'}"
      ]
     },
     "execution_count": 67,
     "metadata": {},
     "output_type": "execute_result"
    }
   ],
   "source": [
    "model4.description"
   ]
  },
  {
   "cell_type": "code",
   "execution_count": 78,
   "metadata": {},
   "outputs": [
    {
     "name": "stdout",
     "output_type": "stream",
     "text": [
      "Number of individually producible free lunch metabolites 3\n",
      "[51, 290, 463] ['M_h_c', 'M_h_e', 'M_h_p']\n"
     ]
    },
    {
     "data": {
      "text/plain": [
       "0"
      ]
     },
     "execution_count": 78,
     "metadata": {},
     "output_type": "execute_result"
    }
   ],
   "source": [
    "ind_flm_index_list4,ind_flm_list4 = model4.findIndividuallyProducibleFLM()\n",
    "print(ind_flm_index_list4,ind_flm_list4)\n",
    "gc.collect()"
   ]
  },
  {
   "cell_type": "markdown",
   "metadata": {},
   "source": [
    "# 14"
   ]
  },
  {
   "cell_type": "code",
   "execution_count": 68,
   "metadata": {},
   "outputs": [
    {
     "name": "stdout",
     "output_type": "stream",
     "text": [
      "Warning: no candidate for extra, outside found in the list\n",
      "Warning: multiple candidates for biomass found in the list\n",
      "0) E. coli biomass objective function (iAF1260) - core - with 59.81 GAM estimate 1) Biomass equation from http://www.biomedcentral.com/1752-0509/3/38 2) Biomass equation from http://www.biomedcentral.com/1752-0509/3/38 including metals from iAF1260 biomass function\n",
      "Please select the correct string from the list above and enter its number, or -1 if none \n",
      "0\n"
     ]
    }
   ],
   "source": [
    "model5 =parseSBML('/home/hzabeti/qsopt-ex/build/python-qsoptex/MongooseGUI3/Models/SBML/STM_v1_0.xml')"
   ]
  },
  {
   "cell_type": "code",
   "execution_count": 69,
   "metadata": {},
   "outputs": [
    {
     "data": {
      "text/plain": [
       "{'ID': 'STM_v1_0',\n",
       " 'Name': 'Salmonella enterica subsp. enterica serovar Typhimurium str. LT2',\n",
       " 'Source File': '/home/hzabeti/qsopt-ex/build/python-qsoptex/MongooseGUI3/Models/SBML/STM_v1_0.xml'}"
      ]
     },
     "execution_count": 69,
     "metadata": {},
     "output_type": "execute_result"
    }
   ],
   "source": [
    "model5.description"
   ]
  },
  {
   "cell_type": "code",
   "execution_count": 79,
   "metadata": {},
   "outputs": [
    {
     "name": "stdout",
     "output_type": "stream",
     "text": [
      "Number of individually producible free lunch metabolites 0\n",
      "[] []\n"
     ]
    },
    {
     "data": {
      "text/plain": [
       "0"
      ]
     },
     "execution_count": 79,
     "metadata": {},
     "output_type": "execute_result"
    }
   ],
   "source": [
    "ind_flm_index_list5,ind_flm_list5 = model5.findIndividuallyProducibleFLM()\n",
    "print(ind_flm_index_list5,ind_flm_list5)\n",
    "gc.collect()"
   ]
  },
  {
   "cell_type": "markdown",
   "metadata": {},
   "source": [
    "# 15"
   ]
  },
  {
   "cell_type": "code",
   "execution_count": 70,
   "metadata": {},
   "outputs": [
    {
     "name": "stdout",
     "output_type": "stream",
     "text": [
      "Warning: no candidate for extra, outside found in the list\n",
      "Warning: multiple candidates for biomass found in the list\n",
      "0) E. coli biomass objective function (iJO1366) - WT - with 53.95 GAM estimate 1) E. coli biomass objective function (iJO1366) - core - with 53.95 GAM estimate\n",
      "Please select the correct string from the list above and enter its number, or -1 if none \n",
      "0\n"
     ]
    }
   ],
   "source": [
    "model6 =parseSBML('/home/hzabeti/qsopt-ex/build/python-qsoptex/MongooseGUI3/Models/SBML/iECBD_1354.xml')"
   ]
  },
  {
   "cell_type": "code",
   "execution_count": 71,
   "metadata": {},
   "outputs": [
    {
     "data": {
      "text/plain": [
       "{'ID': 'iECBD_1354',\n",
       " 'Name': \"Escherichia coli 'BL21-Gold(DE3)pLysS AG'\",\n",
       " 'Source File': '/home/hzabeti/qsopt-ex/build/python-qsoptex/MongooseGUI3/Models/SBML/iECBD_1354.xml'}"
      ]
     },
     "execution_count": 71,
     "metadata": {},
     "output_type": "execute_result"
    }
   ],
   "source": [
    "model6.description"
   ]
  },
  {
   "cell_type": "code",
   "execution_count": 80,
   "metadata": {},
   "outputs": [
    {
     "name": "stdout",
     "output_type": "stream",
     "text": [
      "Number of individually producible free lunch metabolites 3\n",
      "[72, 290, 463] ['M_h_c', 'M_h_e', 'M_h_p']\n"
     ]
    },
    {
     "data": {
      "text/plain": [
       "0"
      ]
     },
     "execution_count": 80,
     "metadata": {},
     "output_type": "execute_result"
    }
   ],
   "source": [
    "ind_flm_index_list6,ind_flm_list6 = model6.findIndividuallyProducibleFLM()\n",
    "print(ind_flm_index_list6,ind_flm_list6)\n",
    "gc.collect()"
   ]
  },
  {
   "cell_type": "markdown",
   "metadata": {},
   "source": [
    "# 16"
   ]
  },
  {
   "cell_type": "code",
   "execution_count": 72,
   "metadata": {},
   "outputs": [
    {
     "name": "stdout",
     "output_type": "stream",
     "text": [
      "Warning: no candidate for extra, outside found in the list\n",
      "Warning: multiple candidates for biomass found in the list\n",
      "0) E. coli biomass objective function (iJO1366) - WT - with 53.95 GAM estimate 1) E. coli biomass objective function (iJO1366) - core - with 53.95 GAM estimate\n",
      "Please select the correct string from the list above and enter its number, or -1 if none \n",
      "0\n"
     ]
    }
   ],
   "source": [
    "model7 =parseSBML('/home/hzabeti/qsopt-ex/build/python-qsoptex/MongooseGUI3/Models/SBML/iECO26_1355.xml')"
   ]
  },
  {
   "cell_type": "code",
   "execution_count": 73,
   "metadata": {},
   "outputs": [
    {
     "data": {
      "text/plain": [
       "{'ID': 'iECO26_1355',\n",
       " 'Name': 'Escherichia coli O26:H11 str. 11368',\n",
       " 'Source File': '/home/hzabeti/qsopt-ex/build/python-qsoptex/MongooseGUI3/Models/SBML/iECO26_1355.xml'}"
      ]
     },
     "execution_count": 73,
     "metadata": {},
     "output_type": "execute_result"
    }
   ],
   "source": [
    "model7.description"
   ]
  },
  {
   "cell_type": "code",
   "execution_count": 81,
   "metadata": {},
   "outputs": [
    {
     "name": "stdout",
     "output_type": "stream",
     "text": [
      "Number of individually producible free lunch metabolites 3\n",
      "[59, 290, 461] ['M_h_c', 'M_h_e', 'M_h_p']\n"
     ]
    },
    {
     "data": {
      "text/plain": [
       "0"
      ]
     },
     "execution_count": 81,
     "metadata": {},
     "output_type": "execute_result"
    }
   ],
   "source": [
    "ind_flm_index_list7,ind_flm_list7 = model7.findIndividuallyProducibleFLM()\n",
    "print(ind_flm_index_list7,ind_flm_list7)\n",
    "gc.collect()"
   ]
  },
  {
   "cell_type": "markdown",
   "metadata": {},
   "source": [
    "# 17"
   ]
  },
  {
   "cell_type": "code",
   "execution_count": 74,
   "metadata": {},
   "outputs": [
    {
     "name": "stdout",
     "output_type": "stream",
     "text": [
      "Warning: no candidate for extra, outside found in the list\n",
      "Warning: multiple candidates for biomass found in the list\n",
      "0) E. coli biomass objective function (iJO1366) - WT - with 53.95 GAM estimate 1) E. coli biomass objective function (iJO1366) - core - with 53.95 GAM estimate\n",
      "Please select the correct string from the list above and enter its number, or -1 if none \n",
      "0\n"
     ]
    }
   ],
   "source": [
    "model8 =parseSBML('/home/hzabeti/qsopt-ex/build/python-qsoptex/MongooseGUI3/Models/SBML/iWFL_1372.xml')"
   ]
  },
  {
   "cell_type": "code",
   "execution_count": 75,
   "metadata": {},
   "outputs": [
    {
     "data": {
      "text/plain": [
       "{'ID': 'iWFL_1372',\n",
       " 'Name': 'Escherichia coli W',\n",
       " 'Source File': '/home/hzabeti/qsopt-ex/build/python-qsoptex/MongooseGUI3/Models/SBML/iWFL_1372.xml'}"
      ]
     },
     "execution_count": 75,
     "metadata": {},
     "output_type": "execute_result"
    }
   ],
   "source": [
    "model8.description"
   ]
  },
  {
   "cell_type": "code",
   "execution_count": 82,
   "metadata": {},
   "outputs": [
    {
     "name": "stdout",
     "output_type": "stream",
     "text": [
      "Number of individually producible free lunch metabolites 3\n",
      "[57, 290, 461] ['M_h_c', 'M_h_e', 'M_h_p']\n"
     ]
    },
    {
     "data": {
      "text/plain": [
       "0"
      ]
     },
     "execution_count": 82,
     "metadata": {},
     "output_type": "execute_result"
    }
   ],
   "source": [
    "ind_flm_index_list8,ind_flm_list8 = model8.findIndividuallyProducibleFLM()\n",
    "print(ind_flm_index_list8,ind_flm_list8)\n",
    "gc.collect()"
   ]
  },
  {
   "cell_type": "markdown",
   "metadata": {},
   "source": [
    "# 18"
   ]
  },
  {
   "cell_type": "code",
   "execution_count": 76,
   "metadata": {},
   "outputs": [
    {
     "name": "stdout",
     "output_type": "stream",
     "text": [
      "Warning: no candidate for extra, outside found in the list\n",
      "Warning: multiple candidates for biomass found in the list\n",
      "0) E. coli biomass objective function (iJO1366) - WT - with 53.95 GAM estimate 1) E. coli biomass objective function (iJO1366) - core - with 53.95 GAM estimate\n",
      "Please select the correct string from the list above and enter its number, or -1 if none \n",
      "0\n"
     ]
    }
   ],
   "source": [
    "model9 =parseSBML('/home/hzabeti/qsopt-ex/build/python-qsoptex/MongooseGUI3/Models/SBML/iECSE_1348.xml')"
   ]
  },
  {
   "cell_type": "code",
   "execution_count": 77,
   "metadata": {},
   "outputs": [
    {
     "data": {
      "text/plain": [
       "{'ID': 'iECSE_1348',\n",
       " 'Name': 'Escherichia coli SE11',\n",
       " 'Source File': '/home/hzabeti/qsopt-ex/build/python-qsoptex/MongooseGUI3/Models/SBML/iECSE_1348.xml'}"
      ]
     },
     "execution_count": 77,
     "metadata": {},
     "output_type": "execute_result"
    }
   ],
   "source": [
    "model9.description"
   ]
  },
  {
   "cell_type": "code",
   "execution_count": 83,
   "metadata": {},
   "outputs": [
    {
     "name": "stdout",
     "output_type": "stream",
     "text": [
      "Number of individually producible free lunch metabolites 3\n",
      "[92, 290, 461] ['M_h_c', 'M_h_e', 'M_h_p']\n"
     ]
    },
    {
     "data": {
      "text/plain": [
       "0"
      ]
     },
     "execution_count": 83,
     "metadata": {},
     "output_type": "execute_result"
    }
   ],
   "source": [
    "ind_flm_index_list9,ind_flm_list9 = model9.findIndividuallyProducibleFLM()\n",
    "print(ind_flm_index_list9,ind_flm_list9)\n",
    "gc.collect()"
   ]
  },
  {
   "cell_type": "markdown",
   "metadata": {},
   "source": [
    "# 19"
   ]
  },
  {
   "cell_type": "code",
   "execution_count": 84,
   "metadata": {},
   "outputs": [
    {
     "name": "stdout",
     "output_type": "stream",
     "text": [
      "Warning: no candidate for extra, outside found in the list\n",
      "Warning: multiple candidates for biomass found in the list\n",
      "0) E. coli biomass objective function (iJO1366) - WT - with 53.95 GAM estimate 1) E. coli biomass objective function (iJO1366) - core - with 53.95 GAM estimate\n",
      "Please select the correct string from the list above and enter its number, or -1 if none \n",
      "0\n"
     ]
    }
   ],
   "source": [
    "model19 =parseSBML('/home/hzabeti/qsopt-ex/build/python-qsoptex/MongooseGUI3/Models/SBML/iECD_1391.xml')"
   ]
  },
  {
   "cell_type": "code",
   "execution_count": 85,
   "metadata": {},
   "outputs": [
    {
     "data": {
      "text/plain": [
       "{'ID': 'iECD_1391',\n",
       " 'Name': 'Escherichia coli BL21(DE3)',\n",
       " 'Source File': '/home/hzabeti/qsopt-ex/build/python-qsoptex/MongooseGUI3/Models/SBML/iECD_1391.xml'}"
      ]
     },
     "execution_count": 85,
     "metadata": {},
     "output_type": "execute_result"
    }
   ],
   "source": [
    "model19.description"
   ]
  },
  {
   "cell_type": "code",
   "execution_count": 100,
   "metadata": {},
   "outputs": [
    {
     "name": "stdout",
     "output_type": "stream",
     "text": [
      "Number of individually producible free lunch metabolites 3\n",
      "[47, 290, 462] ['M_h_c', 'M_h_e', 'M_h_p']\n"
     ]
    },
    {
     "data": {
      "text/plain": [
       "0"
      ]
     },
     "execution_count": 100,
     "metadata": {},
     "output_type": "execute_result"
    }
   ],
   "source": [
    "ind_flm_index_list19,ind_flm_list19 = model19.findIndividuallyProducibleFLM()\n",
    "print(ind_flm_index_list19,ind_flm_list19)\n",
    "gc.collect()"
   ]
  },
  {
   "cell_type": "markdown",
   "metadata": {},
   "source": [
    "# 20"
   ]
  },
  {
   "cell_type": "code",
   "execution_count": 86,
   "metadata": {},
   "outputs": [
    {
     "name": "stdout",
     "output_type": "stream",
     "text": [
      "Warning: no candidate for extra, outside found in the list\n",
      "Warning: multiple candidates for biomass found in the list\n",
      "0) E. coli biomass objective function (iJO1366) - WT - with 53.95 GAM estimate 1) E. coli biomass objective function (iJO1366) - core - with 53.95 GAM estimate\n",
      "Please select the correct string from the list above and enter its number, or -1 if none \n",
      "0\n"
     ]
    }
   ],
   "source": [
    "model20 =parseSBML('/home/hzabeti/qsopt-ex/build/python-qsoptex/MongooseGUI3/Models/SBML/iEcDH1_1363.xml')"
   ]
  },
  {
   "cell_type": "code",
   "execution_count": 87,
   "metadata": {},
   "outputs": [
    {
     "data": {
      "text/plain": [
       "{'ID': 'iEcDH1_1363',\n",
       " 'Name': 'Escherichia coli DH1',\n",
       " 'Source File': '/home/hzabeti/qsopt-ex/build/python-qsoptex/MongooseGUI3/Models/SBML/iEcDH1_1363.xml'}"
      ]
     },
     "execution_count": 87,
     "metadata": {},
     "output_type": "execute_result"
    }
   ],
   "source": [
    "model20.description"
   ]
  },
  {
   "cell_type": "code",
   "execution_count": 101,
   "metadata": {},
   "outputs": [
    {
     "name": "stdout",
     "output_type": "stream",
     "text": [
      "Number of individually producible free lunch metabolites 3\n",
      "[86, 290, 463] ['M_h_c', 'M_h_e', 'M_h_p']\n"
     ]
    },
    {
     "data": {
      "text/plain": [
       "0"
      ]
     },
     "execution_count": 101,
     "metadata": {},
     "output_type": "execute_result"
    }
   ],
   "source": [
    "ind_flm_index_list20,ind_flm_list20 = model20.findIndividuallyProducibleFLM()\n",
    "print(ind_flm_index_list20,ind_flm_list20)\n",
    "gc.collect()"
   ]
  },
  {
   "cell_type": "markdown",
   "metadata": {},
   "source": [
    "# 21"
   ]
  },
  {
   "cell_type": "code",
   "execution_count": 88,
   "metadata": {},
   "outputs": [
    {
     "name": "stdout",
     "output_type": "stream",
     "text": [
      "Warning: no candidate for extra, outside found in the list\n",
      "Warning: multiple candidates for biomass found in the list\n",
      "0) E. coli biomass objective function (iJO1366) - WT - with 53.95 GAM estimate 1) E. coli biomass objective function (iJO1366) - core - with 53.95 GAM estimate\n",
      "Please select the correct string from the list above and enter its number, or -1 if none \n",
      "0\n"
     ]
    }
   ],
   "source": [
    "model21 =parseSBML('/home/hzabeti/qsopt-ex/build/python-qsoptex/MongooseGUI3/Models/SBML/iECDH1ME8569_1439.xml')"
   ]
  },
  {
   "cell_type": "code",
   "execution_count": 89,
   "metadata": {},
   "outputs": [
    {
     "data": {
      "text/plain": [
       "{'ID': 'iECDH1ME8569_1439',\n",
       " 'Name': 'Escherichia coli DH1',\n",
       " 'Source File': '/home/hzabeti/qsopt-ex/build/python-qsoptex/MongooseGUI3/Models/SBML/iECDH1ME8569_1439.xml'}"
      ]
     },
     "execution_count": 89,
     "metadata": {},
     "output_type": "execute_result"
    }
   ],
   "source": [
    "model21.description"
   ]
  },
  {
   "cell_type": "code",
   "execution_count": 102,
   "metadata": {},
   "outputs": [
    {
     "name": "stdout",
     "output_type": "stream",
     "text": [
      "Number of individually producible free lunch metabolites 3\n",
      "[11, 290, 462] ['M_h_c', 'M_h_e', 'M_h_p']\n"
     ]
    },
    {
     "data": {
      "text/plain": [
       "0"
      ]
     },
     "execution_count": 102,
     "metadata": {},
     "output_type": "execute_result"
    }
   ],
   "source": [
    "ind_flm_index_list21,ind_flm_list21 = model21.findIndividuallyProducibleFLM()\n",
    "print(ind_flm_index_list21,ind_flm_list21)\n",
    "gc.collect()"
   ]
  },
  {
   "cell_type": "markdown",
   "metadata": {},
   "source": [
    "# 22"
   ]
  },
  {
   "cell_type": "code",
   "execution_count": 90,
   "metadata": {},
   "outputs": [
    {
     "name": "stdout",
     "output_type": "stream",
     "text": [
      "Warning: no candidate for extra, outside found in the list\n",
      "Warning: multiple candidates for biomass found in the list\n",
      "0) E. coli biomass objective function (iJO1366) - WT - with 53.95 GAM estimate 1) E. coli biomass objective function (iJO1366) - core - with 53.95 GAM estimate\n",
      "Please select the correct string from the list above and enter its number, or -1 if none \n",
      "0\n"
     ]
    }
   ],
   "source": [
    "model22 =parseSBML('/home/hzabeti/qsopt-ex/build/python-qsoptex/MongooseGUI3/Models/SBML/iECDH10B_1368.xml')"
   ]
  },
  {
   "cell_type": "code",
   "execution_count": 91,
   "metadata": {},
   "outputs": [
    {
     "data": {
      "text/plain": [
       "{'ID': 'iECDH10B_1368',\n",
       " 'Name': 'Escherichia coli str. K-12 substr. DH10B',\n",
       " 'Source File': '/home/hzabeti/qsopt-ex/build/python-qsoptex/MongooseGUI3/Models/SBML/iECDH10B_1368.xml'}"
      ]
     },
     "execution_count": 91,
     "metadata": {},
     "output_type": "execute_result"
    }
   ],
   "source": [
    "model22.description"
   ]
  },
  {
   "cell_type": "code",
   "execution_count": 103,
   "metadata": {},
   "outputs": [
    {
     "name": "stdout",
     "output_type": "stream",
     "text": [
      "Number of individually producible free lunch metabolites 3\n",
      "[55, 290, 461] ['M_h_c', 'M_h_e', 'M_h_p']\n"
     ]
    },
    {
     "data": {
      "text/plain": [
       "0"
      ]
     },
     "execution_count": 103,
     "metadata": {},
     "output_type": "execute_result"
    }
   ],
   "source": [
    "ind_flm_index_list22,ind_flm_list22 = model22.findIndividuallyProducibleFLM()\n",
    "print(ind_flm_index_list22,ind_flm_list22)\n",
    "gc.collect()"
   ]
  },
  {
   "cell_type": "markdown",
   "metadata": {},
   "source": [
    "# 23"
   ]
  },
  {
   "cell_type": "code",
   "execution_count": 92,
   "metadata": {},
   "outputs": [
    {
     "name": "stdout",
     "output_type": "stream",
     "text": [
      "Warning: no candidate for extra, outside found in the list\n",
      "Warning: multiple candidates for biomass found in the list\n",
      "0) E. coli biomass objective function (iJO1366) - WT - with 53.95 GAM estimate 1) E. coli biomass objective function (iJO1366) - core - with 53.95 GAM estimate\n",
      "Please select the correct string from the list above and enter its number, or -1 if none \n",
      "0\n"
     ]
    }
   ],
   "source": [
    "model23 =parseSBML('/home/hzabeti/qsopt-ex/build/python-qsoptex/MongooseGUI3/Models/SBML/iB21_1397.xml')"
   ]
  },
  {
   "cell_type": "code",
   "execution_count": 93,
   "metadata": {},
   "outputs": [
    {
     "data": {
      "text/plain": [
       "{'ID': 'iB21_1397',\n",
       " 'Name': 'Escherichia coli BL21(DE3)',\n",
       " 'Source File': '/home/hzabeti/qsopt-ex/build/python-qsoptex/MongooseGUI3/Models/SBML/iB21_1397.xml'}"
      ]
     },
     "execution_count": 93,
     "metadata": {},
     "output_type": "execute_result"
    }
   ],
   "source": [
    "model23.description"
   ]
  },
  {
   "cell_type": "code",
   "execution_count": 115,
   "metadata": {},
   "outputs": [
    {
     "name": "stdout",
     "output_type": "stream",
     "text": [
      "Number of individually producible free lunch metabolites 3\n",
      "[69, 290, 462] ['M_h_c', 'M_h_e', 'M_h_p']\n"
     ]
    },
    {
     "data": {
      "text/plain": [
       "0"
      ]
     },
     "execution_count": 115,
     "metadata": {},
     "output_type": "execute_result"
    }
   ],
   "source": [
    "ind_flm_index_list23,ind_flm_list23 = model23.findIndividuallyProducibleFLM()\n",
    "print(ind_flm_index_list23,ind_flm_list23)\n",
    "gc.collect()"
   ]
  },
  {
   "cell_type": "markdown",
   "metadata": {},
   "source": [
    "# 24"
   ]
  },
  {
   "cell_type": "code",
   "execution_count": 94,
   "metadata": {},
   "outputs": [
    {
     "name": "stdout",
     "output_type": "stream",
     "text": [
      "Warning: no candidate for extra, outside found in the list\n",
      "Warning: multiple candidates for biomass found in the list\n",
      "0) E. coli biomass objective function (iJO1366) - WT - with 53.95 GAM estimate 1) E. coli biomass objective function (iJO1366) - core - with 53.95 GAM estimate\n",
      "Please select the correct string from the list above and enter its number, or -1 if none \n",
      "0\n"
     ]
    }
   ],
   "source": [
    "model24 =parseSBML('/home/hzabeti/qsopt-ex/build/python-qsoptex/MongooseGUI3/Models/SBML/iEcE24377_1341.xml')"
   ]
  },
  {
   "cell_type": "code",
   "execution_count": 95,
   "metadata": {},
   "outputs": [
    {
     "data": {
      "text/plain": [
       "{'ID': 'iEcE24377_1341',\n",
       " 'Name': 'Escherichia coli O139:H28 str. E24377A',\n",
       " 'Source File': '/home/hzabeti/qsopt-ex/build/python-qsoptex/MongooseGUI3/Models/SBML/iEcE24377_1341.xml'}"
      ]
     },
     "execution_count": 95,
     "metadata": {},
     "output_type": "execute_result"
    }
   ],
   "source": [
    "model24.description"
   ]
  },
  {
   "cell_type": "code",
   "execution_count": 116,
   "metadata": {},
   "outputs": [
    {
     "name": "stdout",
     "output_type": "stream",
     "text": [
      "Number of individually producible free lunch metabolites 3\n",
      "[17, 290, 463] ['M_h_c', 'M_h_e', 'M_h_p']\n"
     ]
    },
    {
     "data": {
      "text/plain": [
       "0"
      ]
     },
     "execution_count": 116,
     "metadata": {},
     "output_type": "execute_result"
    }
   ],
   "source": [
    "ind_flm_index_list24,ind_flm_list24 = model24.findIndividuallyProducibleFLM()\n",
    "print(ind_flm_index_list24,ind_flm_list24)\n",
    "gc.collect()"
   ]
  },
  {
   "cell_type": "markdown",
   "metadata": {},
   "source": [
    "# 25"
   ]
  },
  {
   "cell_type": "code",
   "execution_count": 96,
   "metadata": {},
   "outputs": [
    {
     "name": "stdout",
     "output_type": "stream",
     "text": [
      "Warning: no candidate for extra, outside found in the list\n",
      "Warning: multiple candidates for biomass found in the list\n",
      "0) E. coli biomass objective function (iJO1366) - WT - with 53.95 GAM estimate 1) E. coli biomass objective function (iJO1366) - core - with 53.95 GAM estimate\n",
      "Please select the correct string from the list above and enter its number, or -1 if none \n",
      "0\n"
     ]
    }
   ],
   "source": [
    "model25 =parseSBML('/home/hzabeti/qsopt-ex/build/python-qsoptex/MongooseGUI3/Models/SBML/iUMNK88_1353.xml')"
   ]
  },
  {
   "cell_type": "code",
   "execution_count": 97,
   "metadata": {},
   "outputs": [
    {
     "data": {
      "text/plain": [
       "{'ID': 'iUMNK88_1353',\n",
       " 'Name': 'Escherichia coli UMNK88',\n",
       " 'Source File': '/home/hzabeti/qsopt-ex/build/python-qsoptex/MongooseGUI3/Models/SBML/iUMNK88_1353.xml'}"
      ]
     },
     "execution_count": 97,
     "metadata": {},
     "output_type": "execute_result"
    }
   ],
   "source": [
    "model25.description"
   ]
  },
  {
   "cell_type": "code",
   "execution_count": 117,
   "metadata": {},
   "outputs": [
    {
     "name": "stdout",
     "output_type": "stream",
     "text": [
      "Number of individually producible free lunch metabolites 3\n",
      "[63, 290, 462] ['M_h_c', 'M_h_e', 'M_h_p']\n"
     ]
    },
    {
     "data": {
      "text/plain": [
       "0"
      ]
     },
     "execution_count": 117,
     "metadata": {},
     "output_type": "execute_result"
    }
   ],
   "source": [
    "ind_flm_index_list25,ind_flm_list25 = model25.findIndividuallyProducibleFLM()\n",
    "print(ind_flm_index_list25,ind_flm_list25)\n",
    "gc.collect()"
   ]
  },
  {
   "cell_type": "markdown",
   "metadata": {},
   "source": [
    "# 26"
   ]
  },
  {
   "cell_type": "code",
   "execution_count": 105,
   "metadata": {},
   "outputs": [
    {
     "name": "stdout",
     "output_type": "stream",
     "text": [
      "Warning: no candidate for extra, outside found in the list\n",
      "Warning: multiple candidates for biomass found in the list\n",
      "0) E. coli biomass objective function (iJO1366) - WT - with 53.95 GAM estimate 1) E. coli biomass objective function (iJO1366) - core - with 53.95 GAM estimate\n",
      "Please select the correct string from the list above and enter its number, or -1 if none \n",
      "0\n"
     ]
    }
   ],
   "source": [
    "model26 =parseSBML('/home/hzabeti/qsopt-ex/build/python-qsoptex/MongooseGUI3/Models/SBML/iETEC_1333.xml')"
   ]
  },
  {
   "cell_type": "code",
   "execution_count": 106,
   "metadata": {},
   "outputs": [
    {
     "data": {
      "text/plain": [
       "{'ID': 'iETEC_1333',\n",
       " 'Name': 'Escherichia coli ETEC H10407',\n",
       " 'Source File': '/home/hzabeti/qsopt-ex/build/python-qsoptex/MongooseGUI3/Models/SBML/iETEC_1333.xml'}"
      ]
     },
     "execution_count": 106,
     "metadata": {},
     "output_type": "execute_result"
    }
   ],
   "source": [
    "model26.description"
   ]
  },
  {
   "cell_type": "code",
   "execution_count": 118,
   "metadata": {},
   "outputs": [
    {
     "name": "stdout",
     "output_type": "stream",
     "text": [
      "Number of individually producible free lunch metabolites 3\n",
      "[13, 290, 463] ['M_h_c', 'M_h_e', 'M_h_p']\n"
     ]
    },
    {
     "data": {
      "text/plain": [
       "0"
      ]
     },
     "execution_count": 118,
     "metadata": {},
     "output_type": "execute_result"
    }
   ],
   "source": [
    "ind_flm_index_list26,ind_flm_list26 = model26.findIndividuallyProducibleFLM()\n",
    "print(ind_flm_index_list26,ind_flm_list26)\n",
    "gc.collect()"
   ]
  },
  {
   "cell_type": "markdown",
   "metadata": {},
   "source": [
    "# 27"
   ]
  },
  {
   "cell_type": "code",
   "execution_count": 107,
   "metadata": {},
   "outputs": [
    {
     "name": "stdout",
     "output_type": "stream",
     "text": [
      "Warning: no candidate for extra, outside found in the list\n",
      "Warning: multiple candidates for biomass found in the list\n",
      "0) E. coli biomass objective function (iJO1366) - WT - with 53.95 GAM estimate 1) E. coli biomass objective function (iJO1366) - core - with 53.95 GAM estimate\n",
      "Please select the correct string from the list above and enter its number, or -1 if none \n",
      "0\n"
     ]
    }
   ],
   "source": [
    "model27 =parseSBML('/home/hzabeti/qsopt-ex/build/python-qsoptex/MongooseGUI3/Models/SBML/iECW_1372.xml')"
   ]
  },
  {
   "cell_type": "code",
   "execution_count": 108,
   "metadata": {},
   "outputs": [
    {
     "data": {
      "text/plain": [
       "{'ID': 'iECW_1372',\n",
       " 'Name': 'Escherichia coli W',\n",
       " 'Source File': '/home/hzabeti/qsopt-ex/build/python-qsoptex/MongooseGUI3/Models/SBML/iECW_1372.xml'}"
      ]
     },
     "execution_count": 108,
     "metadata": {},
     "output_type": "execute_result"
    }
   ],
   "source": [
    "model27.description"
   ]
  },
  {
   "cell_type": "code",
   "execution_count": 119,
   "metadata": {},
   "outputs": [
    {
     "name": "stdout",
     "output_type": "stream",
     "text": [
      "Number of individually producible free lunch metabolites 3\n",
      "[91, 290, 463] ['M_h_c', 'M_h_e', 'M_h_p']\n"
     ]
    },
    {
     "data": {
      "text/plain": [
       "0"
      ]
     },
     "execution_count": 119,
     "metadata": {},
     "output_type": "execute_result"
    }
   ],
   "source": [
    "ind_flm_index_list27,ind_flm_list27 = model27.findIndividuallyProducibleFLM()\n",
    "print(ind_flm_index_list27,ind_flm_list27)\n",
    "gc.collect()"
   ]
  },
  {
   "cell_type": "markdown",
   "metadata": {},
   "source": [
    "# 28"
   ]
  },
  {
   "cell_type": "code",
   "execution_count": 109,
   "metadata": {},
   "outputs": [
    {
     "name": "stdout",
     "output_type": "stream",
     "text": [
      "Warning: no candidate for extra, outside found in the list\n",
      "Warning: multiple candidates for biomass found in the list\n",
      "0) E. coli biomass objective function (iJO1366) - WT - with 53.95 GAM estimate 1) E. coli biomass objective function (iJO1366) - core - with 53.95 GAM estimate\n",
      "Please select the correct string from the list above and enter its number, or -1 if none \n",
      "0\n"
     ]
    }
   ],
   "source": [
    "model28 =parseSBML('/home/hzabeti/qsopt-ex/build/python-qsoptex/MongooseGUI3/Models/SBML/iSF_1195.xml')"
   ]
  },
  {
   "cell_type": "code",
   "execution_count": 110,
   "metadata": {},
   "outputs": [
    {
     "data": {
      "text/plain": [
       "{'ID': 'iSF_1195',\n",
       " 'Name': 'Shigella flexneri 2a str. 301',\n",
       " 'Source File': '/home/hzabeti/qsopt-ex/build/python-qsoptex/MongooseGUI3/Models/SBML/iSF_1195.xml'}"
      ]
     },
     "execution_count": 110,
     "metadata": {},
     "output_type": "execute_result"
    }
   ],
   "source": [
    "model28.description"
   ]
  },
  {
   "cell_type": "code",
   "execution_count": 120,
   "metadata": {},
   "outputs": [
    {
     "name": "stdout",
     "output_type": "stream",
     "text": [
      "Number of individually producible free lunch metabolites 3\n",
      "[14, 290, 463] ['M_h_c', 'M_h_e', 'M_h_p']\n"
     ]
    },
    {
     "data": {
      "text/plain": [
       "0"
      ]
     },
     "execution_count": 120,
     "metadata": {},
     "output_type": "execute_result"
    }
   ],
   "source": [
    "ind_flm_index_list28,ind_flm_list28 = model28.findIndividuallyProducibleFLM()\n",
    "print(ind_flm_index_list28,ind_flm_list28)\n",
    "gc.collect()"
   ]
  },
  {
   "cell_type": "markdown",
   "metadata": {},
   "source": [
    "# 29"
   ]
  },
  {
   "cell_type": "code",
   "execution_count": 111,
   "metadata": {},
   "outputs": [
    {
     "name": "stdout",
     "output_type": "stream",
     "text": [
      "Warning: no candidate for extra, outside found in the list\n",
      "Warning: multiple candidates for biomass found in the list\n",
      "0) E. coli biomass objective function (iJO1366) - WT - with 53.95 GAM estimate 1) E. coli biomass objective function (iJO1366) - core - with 53.95 GAM estimate\n",
      "Please select the correct string from the list above and enter its number, or -1 if none \n",
      "0\n"
     ]
    }
   ],
   "source": [
    "model29 =parseSBML('/home/hzabeti/qsopt-ex/build/python-qsoptex/MongooseGUI3/Models/SBML/iSbBS512_1146.xml')"
   ]
  },
  {
   "cell_type": "code",
   "execution_count": 112,
   "metadata": {},
   "outputs": [
    {
     "data": {
      "text/plain": [
       "{'ID': 'iSbBS512_1146',\n",
       " 'Name': 'Shigella boydii CDC 3083-94',\n",
       " 'Source File': '/home/hzabeti/qsopt-ex/build/python-qsoptex/MongooseGUI3/Models/SBML/iSbBS512_1146.xml'}"
      ]
     },
     "execution_count": 112,
     "metadata": {},
     "output_type": "execute_result"
    }
   ],
   "source": [
    "model29.description"
   ]
  },
  {
   "cell_type": "code",
   "execution_count": 121,
   "metadata": {},
   "outputs": [
    {
     "name": "stdout",
     "output_type": "stream",
     "text": [
      "Number of individually producible free lunch metabolites 3\n",
      "[57, 290, 460] ['M_h_c', 'M_h_e', 'M_h_p']\n"
     ]
    },
    {
     "data": {
      "text/plain": [
       "0"
      ]
     },
     "execution_count": 121,
     "metadata": {},
     "output_type": "execute_result"
    }
   ],
   "source": [
    "ind_flm_index_list29,ind_flm_list29 = model29.findIndividuallyProducibleFLM()\n",
    "print(ind_flm_index_list29,ind_flm_list29)\n",
    "gc.collect()"
   ]
  },
  {
   "cell_type": "markdown",
   "metadata": {},
   "source": [
    "# 30"
   ]
  },
  {
   "cell_type": "code",
   "execution_count": 113,
   "metadata": {},
   "outputs": [
    {
     "name": "stdout",
     "output_type": "stream",
     "text": [
      "Warning: no candidate for extra, outside found in the list\n",
      "Warning: multiple candidates for biomass found in the list\n",
      "0) E. coli biomass objective function (iJO1366) - WT - with 53.95 GAM estimate 1) E. coli biomass objective function (iJO1366) - core - with 53.95 GAM estimate\n",
      "Please select the correct string from the list above and enter its number, or -1 if none \n",
      "0\n"
     ]
    }
   ],
   "source": [
    "model30 =parseSBML('/home/hzabeti/qsopt-ex/build/python-qsoptex/MongooseGUI3/Models/SBML/iEKO11_1354.xml')"
   ]
  },
  {
   "cell_type": "code",
   "execution_count": 114,
   "metadata": {},
   "outputs": [
    {
     "data": {
      "text/plain": [
       "{'ID': 'iEKO11_1354',\n",
       " 'Name': 'Escherichia coli KO11FL',\n",
       " 'Source File': '/home/hzabeti/qsopt-ex/build/python-qsoptex/MongooseGUI3/Models/SBML/iEKO11_1354.xml'}"
      ]
     },
     "execution_count": 114,
     "metadata": {},
     "output_type": "execute_result"
    }
   ],
   "source": [
    "model30.description"
   ]
  },
  {
   "cell_type": "code",
   "execution_count": 122,
   "metadata": {},
   "outputs": [
    {
     "name": "stdout",
     "output_type": "stream",
     "text": [
      "Number of individually producible free lunch metabolites 3\n",
      "[92, 290, 461] ['M_h_c', 'M_h_e', 'M_h_p']\n"
     ]
    },
    {
     "data": {
      "text/plain": [
       "0"
      ]
     },
     "execution_count": 122,
     "metadata": {},
     "output_type": "execute_result"
    }
   ],
   "source": [
    "ind_flm_index_list30,ind_flm_list30 = model30.findIndividuallyProducibleFLM()\n",
    "print(ind_flm_index_list30,ind_flm_list30)\n",
    "gc.collect()"
   ]
  },
  {
   "cell_type": "markdown",
   "metadata": {},
   "source": [
    "# 31"
   ]
  },
  {
   "cell_type": "code",
   "execution_count": 123,
   "metadata": {},
   "outputs": [
    {
     "name": "stdout",
     "output_type": "stream",
     "text": [
      "Warning: no candidate for extra, outside found in the list\n",
      "Warning: multiple candidates for biomass found in the list\n",
      "0) Biomass function 1) Biomass for a producing cell line\n",
      "Please select the correct string from the list above and enter its number, or -1 if none \n",
      "0\n"
     ]
    }
   ],
   "source": [
    "model31 =parseSBML('/home/hzabeti/qsopt-ex/build/python-qsoptex/MongooseGUI3/Models/SBML/iCHOv1.xml')"
   ]
  },
  {
   "cell_type": "code",
   "execution_count": 124,
   "metadata": {},
   "outputs": [
    {
     "data": {
      "text/plain": [
       "{'ID': 'iCHOv1',\n",
       " 'Name': 'Cricetulus griseus',\n",
       " 'Source File': '/home/hzabeti/qsopt-ex/build/python-qsoptex/MongooseGUI3/Models/SBML/iCHOv1.xml'}"
      ]
     },
     "execution_count": 124,
     "metadata": {},
     "output_type": "execute_result"
    }
   ],
   "source": [
    "model31.description"
   ]
  },
  {
   "cell_type": "code",
   "execution_count": 127,
   "metadata": {},
   "outputs": [
    {
     "name": "stdout",
     "output_type": "stream",
     "text": [
      "Number of individually producible free lunch metabolites 46\n",
      "[1425, 1426, 1427, 1428, 1429, 1430, 1431, 1432, 1433, 1434, 1435, 2926, 2927, 2928, 2929, 2930, 2931, 2932, 2933, 2934, 2935, 2936, 2937, 2938, 2939, 2940, 2943, 2944, 2945, 2946, 2947, 2948, 2949, 2950, 2951, 3642, 3643, 3646, 3647, 3648, 3649, 3650, 3651, 3652, 3653, 3654] ['M_HC02111_c', 'M_HC02111_m', 'M_HC02112_c', 'M_HC02112_m', 'M_HC02112_r', 'M_HC02112_x', 'M_HC02113_c', 'M_HC02113_m', 'M_HC02113_r', 'M_HC02113_x', 'M_HC02114_c', 'M_h2o2_c', 'M_h2o2_e', 'M_h2o2_l', 'M_h2o2_m', 'M_h2o2_n', 'M_h2o2_r', 'M_h2o2_x', 'M_h2o_c', 'M_h2o_e', 'M_h2o_g', 'M_h2o_l', 'M_h2o_m', 'M_h2o_n', 'M_h2o_r', 'M_h2o_x', 'M_h_c', 'M_h_e', 'M_h_g', 'M_h_im', 'M_h_l', 'M_h_m', 'M_h_n', 'M_h_r', 'M_h_x', 'M_o2_c', 'M_o2_e', 'M_o2_m', 'M_o2_n', 'M_o2_r', 'M_o2_x', 'M_o2s_c', 'M_o2s_e', 'M_o2s_m', 'M_o2s_n', 'M_o2s_x']\n"
     ]
    },
    {
     "data": {
      "text/plain": [
       "0"
      ]
     },
     "execution_count": 127,
     "metadata": {},
     "output_type": "execute_result"
    }
   ],
   "source": [
    "ind_flm_index_list31,ind_flm_list31 = model31.findIndividuallyProducibleFLM()\n",
    "print(ind_flm_index_list31,ind_flm_list31)\n",
    "gc.collect()"
   ]
  },
  {
   "cell_type": "markdown",
   "metadata": {},
   "source": [
    "# 32"
   ]
  },
  {
   "cell_type": "code",
   "execution_count": 125,
   "metadata": {},
   "outputs": [
    {
     "name": "stdout",
     "output_type": "stream",
     "text": [
      "Warning: no candidate for extra, outside found in the list\n",
      "Warning: multiple candidates for biomass found in the list\n",
      "0) E. coli biomass objective function (iJO1366) - WT - with 53.95 GAM estimate 1) E. coli biomass objective function (iJO1366) - core - with 53.95 GAM estimate\n",
      "Please select the correct string from the list above and enter its number, or -1 if none \n",
      "0\n"
     ]
    }
   ],
   "source": [
    "model32 =parseSBML('/home/hzabeti/qsopt-ex/build/python-qsoptex/MongooseGUI3/Models/SBML/iSSON_1240.xml')"
   ]
  },
  {
   "cell_type": "code",
   "execution_count": 126,
   "metadata": {},
   "outputs": [
    {
     "data": {
      "text/plain": [
       "{'ID': 'iSSON_1240',\n",
       " 'Name': 'Shigella sonnei Ss046',\n",
       " 'Source File': '/home/hzabeti/qsopt-ex/build/python-qsoptex/MongooseGUI3/Models/SBML/iSSON_1240.xml'}"
      ]
     },
     "execution_count": 126,
     "metadata": {},
     "output_type": "execute_result"
    }
   ],
   "source": [
    "model32.description"
   ]
  },
  {
   "cell_type": "code",
   "execution_count": 128,
   "metadata": {},
   "outputs": [
    {
     "name": "stdout",
     "output_type": "stream",
     "text": [
      "Number of individually producible free lunch metabolites 3\n",
      "[67, 290, 462] ['M_h_c', 'M_h_e', 'M_h_p']\n"
     ]
    },
    {
     "data": {
      "text/plain": [
       "0"
      ]
     },
     "execution_count": 128,
     "metadata": {},
     "output_type": "execute_result"
    }
   ],
   "source": [
    "ind_flm_index_list32,ind_flm_list32 = model32.findIndividuallyProducibleFLM()\n",
    "print(ind_flm_index_list32,ind_flm_list32)\n",
    "gc.collect()"
   ]
  },
  {
   "cell_type": "markdown",
   "metadata": {},
   "source": [
    "# 33"
   ]
  },
  {
   "cell_type": "code",
   "execution_count": 129,
   "metadata": {},
   "outputs": [
    {
     "name": "stdout",
     "output_type": "stream",
     "text": [
      "Warning: no candidate for extra, outside found in the list\n",
      "Warning: multiple candidates for biomass found in the list\n",
      "0) Autotrophic Biomass Ecuation 1) Mixotrophic Biomass Ecuation 2) Heterotrophic Biomass Ecuation\n",
      "Please select the correct string from the list above and enter its number, or -1 if none \n",
      "0\n"
     ]
    }
   ],
   "source": [
    "model33 =parseSBML('/home/hzabeti/qsopt-ex/build/python-qsoptex/MongooseGUI3/Models/SBML/iJN678.xml')"
   ]
  },
  {
   "cell_type": "code",
   "execution_count": 130,
   "metadata": {},
   "outputs": [
    {
     "data": {
      "text/plain": [
       "{'ID': 'iJN678',\n",
       " 'Name': 'Synechocystis sp. PCC 6803',\n",
       " 'Source File': '/home/hzabeti/qsopt-ex/build/python-qsoptex/MongooseGUI3/Models/SBML/iJN678.xml'}"
      ]
     },
     "execution_count": 130,
     "metadata": {},
     "output_type": "execute_result"
    }
   ],
   "source": [
    "model33.description"
   ]
  },
  {
   "cell_type": "code",
   "execution_count": 145,
   "metadata": {},
   "outputs": [
    {
     "name": "stdout",
     "output_type": "stream",
     "text": [
      "Number of individually producible free lunch metabolites 3\n",
      "[592, 756, 757] ['M_photon_c', 'M_photon_e', 'M_photon_p']\n"
     ]
    },
    {
     "data": {
      "text/plain": [
       "0"
      ]
     },
     "execution_count": 145,
     "metadata": {},
     "output_type": "execute_result"
    }
   ],
   "source": [
    "ind_flm_index_list33,ind_flm_list33 = model33.findIndividuallyProducibleFLM()\n",
    "print(ind_flm_index_list33,ind_flm_list33)\n",
    "gc.collect()"
   ]
  },
  {
   "cell_type": "markdown",
   "metadata": {},
   "source": [
    "# 34"
   ]
  },
  {
   "cell_type": "code",
   "execution_count": 131,
   "metadata": {},
   "outputs": [
    {
     "name": "stdout",
     "output_type": "stream",
     "text": [
      "Warning: no candidate for extra, outside found in the list\n",
      "Warning: multiple candidates for biomass found in the list\n",
      "0) E. coli biomass objective function (iJO1366) - WT - with 53.95 GAM estimate 1) E. coli biomass objective function (iJO1366) - core - with 53.95 GAM estimate\n",
      "Please select the correct string from the list above and enter its number, or -1 if none \n",
      "0\n"
     ]
    }
   ],
   "source": [
    "model34 =parseSBML('/home/hzabeti/qsopt-ex/build/python-qsoptex/MongooseGUI3/Models/SBML/iSFxv_1172.xml')"
   ]
  },
  {
   "cell_type": "code",
   "execution_count": 132,
   "metadata": {},
   "outputs": [
    {
     "data": {
      "text/plain": [
       "{'ID': 'iSFxv_1172',\n",
       " 'Name': 'Shigella flexneri 2002017',\n",
       " 'Source File': '/home/hzabeti/qsopt-ex/build/python-qsoptex/MongooseGUI3/Models/SBML/iSFxv_1172.xml'}"
      ]
     },
     "execution_count": 132,
     "metadata": {},
     "output_type": "execute_result"
    }
   ],
   "source": [
    "model34.description"
   ]
  },
  {
   "cell_type": "code",
   "execution_count": 146,
   "metadata": {},
   "outputs": [
    {
     "name": "stdout",
     "output_type": "stream",
     "text": [
      "Number of individually producible free lunch metabolites 3\n",
      "[47, 290, 463] ['M_h_c', 'M_h_e', 'M_h_p']\n"
     ]
    },
    {
     "data": {
      "text/plain": [
       "0"
      ]
     },
     "execution_count": 146,
     "metadata": {},
     "output_type": "execute_result"
    }
   ],
   "source": [
    "ind_flm_index_list34,ind_flm_list34 = model34.findIndividuallyProducibleFLM()\n",
    "print(ind_flm_index_list34,ind_flm_list34)\n",
    "gc.collect()"
   ]
  },
  {
   "cell_type": "markdown",
   "metadata": {},
   "source": [
    "# 35"
   ]
  },
  {
   "cell_type": "code",
   "execution_count": 133,
   "metadata": {},
   "outputs": [
    {
     "name": "stdout",
     "output_type": "stream",
     "text": [
      "Warning: no candidate for extra, outside found in the list\n",
      "Warning: multiple candidates for biomass found in the list\n",
      "0) E. coli biomass objective function (iJO1366) - WT - with 53.95 GAM estimate 1) E. coli biomass objective function (iJO1366) - core - with 53.95 GAM estimate\n",
      "Please select the correct string from the list above and enter its number, or -1 if none \n",
      "0\n"
     ]
    }
   ],
   "source": [
    "model35 =parseSBML('/home/hzabeti/qsopt-ex/build/python-qsoptex/MongooseGUI3/Models/SBML/iBWG_1329.xml')"
   ]
  },
  {
   "cell_type": "code",
   "execution_count": 134,
   "metadata": {},
   "outputs": [
    {
     "data": {
      "text/plain": [
       "{'ID': 'iBWG_1329',\n",
       " 'Name': 'Escherichia coli BW2952',\n",
       " 'Source File': '/home/hzabeti/qsopt-ex/build/python-qsoptex/MongooseGUI3/Models/SBML/iBWG_1329.xml'}"
      ]
     },
     "execution_count": 134,
     "metadata": {},
     "output_type": "execute_result"
    }
   ],
   "source": [
    "model35.description"
   ]
  },
  {
   "cell_type": "code",
   "execution_count": 147,
   "metadata": {},
   "outputs": [
    {
     "name": "stdout",
     "output_type": "stream",
     "text": [
      "Number of individually producible free lunch metabolites 3\n",
      "[34, 290, 461] ['M_h_c', 'M_h_e', 'M_h_p']\n"
     ]
    },
    {
     "data": {
      "text/plain": [
       "0"
      ]
     },
     "execution_count": 147,
     "metadata": {},
     "output_type": "execute_result"
    }
   ],
   "source": [
    "ind_flm_index_list35,ind_flm_list35 = model35.findIndividuallyProducibleFLM()\n",
    "print(ind_flm_index_list35,ind_flm_list35)\n",
    "gc.collect()"
   ]
  },
  {
   "cell_type": "markdown",
   "metadata": {},
   "source": [
    "# 36"
   ]
  },
  {
   "cell_type": "code",
   "execution_count": 135,
   "metadata": {},
   "outputs": [
    {
     "name": "stdout",
     "output_type": "stream",
     "text": [
      "Warning: no candidate for extra, outside found in the list\n",
      "Warning: multiple candidates for biomass found in the list\n",
      "0) E. coli biomass objective function (iJO1366) - WT - with 53.95 GAM estimate 1) E. coli biomass objective function (iJO1366) - core - with 53.95 GAM estimate\n",
      "Please select the correct string from the list above and enter its number, or -1 if none \n",
      "0\n"
     ]
    }
   ],
   "source": [
    "model36 =parseSBML('/home/hzabeti/qsopt-ex/build/python-qsoptex/MongooseGUI3/Models/SBML/iECIAI1_1343.xml')"
   ]
  },
  {
   "cell_type": "code",
   "execution_count": 136,
   "metadata": {},
   "outputs": [
    {
     "data": {
      "text/plain": [
       "{'ID': 'iECIAI1_1343',\n",
       " 'Name': 'Escherichia coli IAI1',\n",
       " 'Source File': '/home/hzabeti/qsopt-ex/build/python-qsoptex/MongooseGUI3/Models/SBML/iECIAI1_1343.xml'}"
      ]
     },
     "execution_count": 136,
     "metadata": {},
     "output_type": "execute_result"
    }
   ],
   "source": [
    "model36.description"
   ]
  },
  {
   "cell_type": "code",
   "execution_count": 148,
   "metadata": {},
   "outputs": [
    {
     "name": "stdout",
     "output_type": "stream",
     "text": [
      "Number of individually producible free lunch metabolites 7\n",
      "[101, 290, 461, 626, 630, 1372, 1373] ['M_h_c', 'M_h_e', 'M_h_p', 'M_mthgxl_c', 'M_dtdp4aaddg_c', 'M_histd_c', 'M_hisp_c']\n"
     ]
    },
    {
     "data": {
      "text/plain": [
       "0"
      ]
     },
     "execution_count": 148,
     "metadata": {},
     "output_type": "execute_result"
    }
   ],
   "source": [
    "ind_flm_index_list36,ind_flm_list36 = model36.findIndividuallyProducibleFLM()\n",
    "print(ind_flm_index_list36,ind_flm_list36)\n",
    "gc.collect()"
   ]
  },
  {
   "cell_type": "markdown",
   "metadata": {},
   "source": [
    "# 37"
   ]
  },
  {
   "cell_type": "code",
   "execution_count": 137,
   "metadata": {},
   "outputs": [
    {
     "name": "stdout",
     "output_type": "stream",
     "text": [
      "Warning: no candidate for extra, outside found in the list\n",
      "Warning: multiple candidates for biomass found in the list\n",
      "0) E. coli biomass objective function (iJO1366) - WT - with 53.95 GAM estimate 1) E. coli biomass objective function (iJO1366) - core - with 53.95 GAM estimate\n",
      "Please select the correct string from the list above and enter its number, or -1 if none \n",
      "0\n"
     ]
    }
   ],
   "source": [
    "model37 =parseSBML('/home/hzabeti/qsopt-ex/build/python-qsoptex/MongooseGUI3/Models/SBML/iSFV_1184.xml')"
   ]
  },
  {
   "cell_type": "code",
   "execution_count": 138,
   "metadata": {},
   "outputs": [
    {
     "data": {
      "text/plain": [
       "{'ID': 'iSFV_1184',\n",
       " 'Name': 'Shigella flexneri 5 str. 8401',\n",
       " 'Source File': '/home/hzabeti/qsopt-ex/build/python-qsoptex/MongooseGUI3/Models/SBML/iSFV_1184.xml'}"
      ]
     },
     "execution_count": 138,
     "metadata": {},
     "output_type": "execute_result"
    }
   ],
   "source": [
    "model37.description"
   ]
  },
  {
   "cell_type": "code",
   "execution_count": 149,
   "metadata": {},
   "outputs": [
    {
     "name": "stdout",
     "output_type": "stream",
     "text": [
      "Number of individually producible free lunch metabolites 3\n",
      "[59, 290, 461] ['M_h_c', 'M_h_e', 'M_h_p']\n"
     ]
    },
    {
     "data": {
      "text/plain": [
       "0"
      ]
     },
     "execution_count": 149,
     "metadata": {},
     "output_type": "execute_result"
    }
   ],
   "source": [
    "ind_flm_index_list37,ind_flm_list37 = model37.findIndividuallyProducibleFLM()\n",
    "print(ind_flm_index_list37,ind_flm_list37)\n",
    "gc.collect()"
   ]
  },
  {
   "cell_type": "markdown",
   "metadata": {},
   "source": [
    "# 38"
   ]
  },
  {
   "cell_type": "code",
   "execution_count": 139,
   "metadata": {},
   "outputs": [
    {
     "name": "stdout",
     "output_type": "stream",
     "text": [
      "Warning: no candidate for extra, outside found in the list\n",
      "Warning: multiple candidates for biomass found in the list\n",
      "0) Biomass component: Chlorophylls and pigments 1) Biomass component: Membrane lipids 2) Biomass component: Triacylglycerides (TAGs) 3) Biomass component: Carbohydrates 4) Biomass equation for model testing 5) Biomass component: DNA 6) Biomass component: RNA 7) Biomass component: Proteins and Amino acids\n",
      "Please select the correct string from the list above and enter its number, or -1 if none \n",
      "0\n"
     ]
    }
   ],
   "source": [
    "model38 =parseSBML('/home/hzabeti/qsopt-ex/build/python-qsoptex/MongooseGUI3/Models/SBML/iLB1027_lipid.xml')"
   ]
  },
  {
   "cell_type": "code",
   "execution_count": 140,
   "metadata": {},
   "outputs": [
    {
     "data": {
      "text/plain": [
       "{'ID': 'iLB1027_lipid',\n",
       " 'Name': 'Phaeodactylum tricornutum CCAP 1055/1',\n",
       " 'Source File': '/home/hzabeti/qsopt-ex/build/python-qsoptex/MongooseGUI3/Models/SBML/iLB1027_lipid.xml'}"
      ]
     },
     "execution_count": 140,
     "metadata": {},
     "output_type": "execute_result"
    }
   ],
   "source": [
    "model38.description"
   ]
  },
  {
   "cell_type": "code",
   "execution_count": 150,
   "metadata": {},
   "outputs": [
    {
     "name": "stdout",
     "output_type": "stream",
     "text": [
      "Number of individually producible free lunch metabolites 3\n",
      "[597, 598, 599] ['M_photon_e', 'M_photon_c', 'M_photon_h']\n"
     ]
    },
    {
     "data": {
      "text/plain": [
       "0"
      ]
     },
     "execution_count": 150,
     "metadata": {},
     "output_type": "execute_result"
    }
   ],
   "source": [
    "ind_flm_index_list38,ind_flm_list38 = model38.findIndividuallyProducibleFLM()\n",
    "print(ind_flm_index_list38,ind_flm_list38)\n",
    "gc.collect()"
   ]
  },
  {
   "cell_type": "markdown",
   "metadata": {},
   "source": [
    "# 39"
   ]
  },
  {
   "cell_type": "code",
   "execution_count": 141,
   "metadata": {},
   "outputs": [
    {
     "name": "stdout",
     "output_type": "stream",
     "text": [
      "Warning: no candidate for extra, outside found in the list\n",
      "Warning: multiple candidates for biomass found in the list\n",
      "0) E. coli biomass objective function (iJO1366) - WT - with 53.95 GAM estimate 1) E. coli biomass objective function (iJO1366) - core - with 53.95 GAM estimate\n",
      "Please select the correct string from the list above and enter its number, or -1 if none \n",
      "0\n"
     ]
    }
   ],
   "source": [
    "model39 =parseSBML('/home/hzabeti/qsopt-ex/build/python-qsoptex/MongooseGUI3/Models/SBML/iEcHS_1320.xml')"
   ]
  },
  {
   "cell_type": "code",
   "execution_count": 142,
   "metadata": {},
   "outputs": [
    {
     "data": {
      "text/plain": [
       "{'ID': 'iEcHS_1320',\n",
       " 'Name': 'Escherichia coli HS',\n",
       " 'Source File': '/home/hzabeti/qsopt-ex/build/python-qsoptex/MongooseGUI3/Models/SBML/iEcHS_1320.xml'}"
      ]
     },
     "execution_count": 142,
     "metadata": {},
     "output_type": "execute_result"
    }
   ],
   "source": [
    "model39.description"
   ]
  },
  {
   "cell_type": "code",
   "execution_count": 151,
   "metadata": {},
   "outputs": [
    {
     "name": "stdout",
     "output_type": "stream",
     "text": [
      "Number of individually producible free lunch metabolites 3\n",
      "[103, 290, 463] ['M_h_c', 'M_h_e', 'M_h_p']\n"
     ]
    },
    {
     "data": {
      "text/plain": [
       "0"
      ]
     },
     "execution_count": 151,
     "metadata": {},
     "output_type": "execute_result"
    }
   ],
   "source": [
    "ind_flm_index_list39,ind_flm_list39 = model39.findIndividuallyProducibleFLM()\n",
    "print(ind_flm_index_list39,ind_flm_list39)\n",
    "gc.collect()"
   ]
  },
  {
   "cell_type": "markdown",
   "metadata": {},
   "source": [
    "# 40"
   ]
  },
  {
   "cell_type": "code",
   "execution_count": 143,
   "metadata": {},
   "outputs": [
    {
     "name": "stdout",
     "output_type": "stream",
     "text": [
      "Warning: no candidate for extra, outside found in the list\n",
      "Warning: multiple candidates for biomass found in the list\n",
      "0) E. coli biomass objective function (iJO1366) - WT - with 53.95 GAM estimate 1) E. coli biomass objective function (iJO1366) - core - with 53.95 GAM estimate\n",
      "Please select the correct string from the list above and enter its number, or -1 if none \n",
      "0\n"
     ]
    }
   ],
   "source": [
    "model40 =parseSBML('/home/hzabeti/qsopt-ex/build/python-qsoptex/MongooseGUI3/Models/SBML/iEC55989_1330.xml')"
   ]
  },
  {
   "cell_type": "code",
   "execution_count": 144,
   "metadata": {},
   "outputs": [
    {
     "data": {
      "text/plain": [
       "{'ID': 'iEC55989_1330',\n",
       " 'Name': 'Escherichia coli 55989',\n",
       " 'Source File': '/home/hzabeti/qsopt-ex/build/python-qsoptex/MongooseGUI3/Models/SBML/iEC55989_1330.xml'}"
      ]
     },
     "execution_count": 144,
     "metadata": {},
     "output_type": "execute_result"
    }
   ],
   "source": [
    "model40.description"
   ]
  },
  {
   "cell_type": "code",
   "execution_count": 152,
   "metadata": {},
   "outputs": [
    {
     "name": "stdout",
     "output_type": "stream",
     "text": [
      "Number of individually producible free lunch metabolites 3\n",
      "[11, 290, 463] ['M_h_c', 'M_h_e', 'M_h_p']\n"
     ]
    },
    {
     "data": {
      "text/plain": [
       "0"
      ]
     },
     "execution_count": 152,
     "metadata": {},
     "output_type": "execute_result"
    }
   ],
   "source": [
    "ind_flm_index_list40,ind_flm_list40 = model40.findIndividuallyProducibleFLM()\n",
    "print(ind_flm_index_list40,ind_flm_list40)\n",
    "gc.collect()"
   ]
  }
 ],
 "metadata": {
  "kernelspec": {
   "display_name": "Python 3",
   "language": "python",
   "name": "python3"
  },
  "language_info": {
   "codemirror_mode": {
    "name": "ipython",
    "version": 3
   },
   "file_extension": ".py",
   "mimetype": "text/x-python",
   "name": "python",
   "nbconvert_exporter": "python",
   "pygments_lexer": "ipython3",
   "version": "3.5.2"
  }
 },
 "nbformat": 4,
 "nbformat_minor": 2
}
